{
 "cells": [
  {
   "cell_type": "markdown",
   "id": "ae5a3649-8501-4cae-aaaa-e591cebb97e9",
   "metadata": {},
   "source": [
    "# Measure Distance with Moku\n",
    "\n",
    "by Jason Ball, Liquid Instruments\n",
    "\n",
    "jason@liquidinstruments.com\n",
    "\n",
    "Created: 2024/12/20\n",
    "\n",
    "Last edited: 2025/01/03"
   ]
  },
  {
   "cell_type": "markdown",
   "id": "e2251257-1811-4480-a841-51237421896e",
   "metadata": {},
   "source": [
    "## Section 1: Import and Connect"
   ]
  },
  {
   "cell_type": "code",
   "execution_count": 3,
   "id": "25bf89de-ca54-4afd-a6d6-da2eb22966a9",
   "metadata": {},
   "outputs": [],
   "source": [
    "### standard imports ###\n",
    "### in this case we use tkinter for our updating GUI ### \n",
    "import tkinter as Tk\n",
    "import numpy as np\n",
    "import time"
   ]
  },
  {
   "cell_type": "code",
   "execution_count": 5,
   "id": "7fdc344b-46b2-4df2-bef5-b0af1e433422",
   "metadata": {},
   "outputs": [],
   "source": [
    "### import required instruments ###\n",
    "### In this case, we are only using the Logic Analyzer in single-instrument mode ###\n",
    "from moku.instruments import LogicAnalyzer"
   ]
  },
  {
   "cell_type": "code",
   "execution_count": 7,
   "id": "b061f422-68fd-420a-83c2-b8da50cb2eb7",
   "metadata": {},
   "outputs": [],
   "source": [
    "### Establish connection to the Moku ###\n",
    "### This sets up the device as a Logic Analyzer / Pattern Generator in single-instrument mode. ###\n",
    "### Input your device's IP address as a string. ###\n",
    "### Setting force connect to be true will boot anyone using the device ### \n",
    "logan = LogicAnalyzer('[fe80::32e2:83ff:feb2:674c%11]', force_connect=True)"
   ]
  },
  {
   "cell_type": "markdown",
   "id": "e3738d99-28af-459f-884a-0e7b92d4caac",
   "metadata": {},
   "source": [
    "## Section 2: Power on range finder"
   ]
  },
  {
   "cell_type": "code",
   "execution_count": 10,
   "id": "eb4f3e2b-d9d8-4e0a-b36e-92123b7bb572",
   "metadata": {},
   "outputs": [
    {
     "data": {
      "text/plain": [
       "{'actual_current': 0.027484741210937524,\n",
       " 'actual_voltage': 5.0625,\n",
       " 'constant_current_mode': False,\n",
       " 'constant_voltage_mode': True,\n",
       " 'current_range': [0.0, 0.15],\n",
       " 'enabled': True,\n",
       " 'id': 1,\n",
       " 'set_current': 0.15,\n",
       " 'set_voltage': 5.0,\n",
       " 'voltage_range': [-5.0, 5.0]}"
      ]
     },
     "execution_count": 10,
     "metadata": {},
     "output_type": "execute_result"
    }
   ],
   "source": [
    "### use the following command to enable the power supply, and set the voltage and current limits ###\n",
    "### 150 mA is more than enough for our device ###   \n",
    "logan.set_power_supply(1, enable=True, voltage=5, current=0.15) "
   ]
  },
  {
   "cell_type": "markdown",
   "id": "7aac7dbd-24a8-4193-b624-e8719fecf0b9",
   "metadata": {},
   "source": [
    "## Section 3: Set up Logic Analyzer"
   ]
  },
  {
   "cell_type": "code",
   "execution_count": 13,
   "id": "2066e9fa-7c5c-46ae-92bc-83f0d84dd21a",
   "metadata": {},
   "outputs": [
    {
     "name": "stdout",
     "output_type": "stream",
     "text": [
      "Warning: Deprecated: roll_mode is deprecated and will be removed soon. Please use enable_rollmode instead\n"
     ]
    },
    {
     "data": {
      "text/plain": [
       "[{'data': 0, 'end': -9.480000000000011e-06, 'start': None, 'state': 'idle'},\n",
       " {'data': 89,\n",
       "  'end': 7.317599999999999e-05,\n",
       "  'start': -9.480000000000011e-06,\n",
       "  'state': 'data'},\n",
       " {'data': 0,\n",
       "  'end': 7.809599999999999e-05,\n",
       "  'start': 7.317599999999999e-05,\n",
       "  'state': 'idle'},\n",
       " {'data': 89,\n",
       "  'end': 0.00015976800000000002,\n",
       "  'start': 7.809599999999999e-05,\n",
       "  'state': 'data'},\n",
       " {'data': 0,\n",
       "  'end': 0.00016468800000000002,\n",
       "  'start': 0.00015976800000000002,\n",
       "  'state': 'idle'},\n",
       " {'data': 105,\n",
       "  'end': 0.000247344,\n",
       "  'start': 0.00016468800000000002,\n",
       "  'state': 'data'},\n",
       " {'data': 0, 'end': 0.00025128, 'start': 0.000247344, 'state': 'idle'},\n",
       " {'data': 2, 'end': 0.000333936, 'start': 0.00025128, 'state': 'data'},\n",
       " {'data': 0, 'end': 0.000337872, 'start': 0.000333936, 'state': 'idle'},\n",
       " {'data': 26,\n",
       "  'end': 0.00042052800000000004,\n",
       "  'start': 0.000337872,\n",
       "  'state': 'data'},\n",
       " {'data': 0,\n",
       "  'end': 0.000424464,\n",
       "  'start': 0.00042052800000000004,\n",
       "  'state': 'idle'},\n",
       " {'data': 3, 'end': 0.00050712, 'start': 0.000424464, 'state': 'data'},\n",
       " {'data': 0,\n",
       "  'end': 0.0005120400000000001,\n",
       "  'start': 0.00050712,\n",
       "  'state': 'idle'},\n",
       " {'data': 96,\n",
       "  'end': 0.000594696,\n",
       "  'start': 0.0005120400000000001,\n",
       "  'state': 'data'},\n",
       " {'data': 0, 'end': 0.000598632, 'start': 0.000594696, 'state': 'idle'},\n",
       " {'data': 9,\n",
       "  'end': 0.0006812879999999999,\n",
       "  'start': 0.000598632,\n",
       "  'state': 'data'},\n",
       " {'data': 0,\n",
       "  'end': 0.0006852239999999999,\n",
       "  'start': 0.0006812879999999999,\n",
       "  'state': 'idle'},\n",
       " {'data': 163,\n",
       "  'end': 0.0007678800000000001,\n",
       "  'start': 0.0006852239999999999,\n",
       "  'state': 'data'},\n",
       " {'data': 0, 'end': None, 'start': 0.0007678800000000001, 'state': 'idle'}]"
      ]
     },
     "execution_count": 13,
     "metadata": {},
     "output_type": "execute_result"
    }
   ],
   "source": [
    "### We need to set up the Logic Analyzer to read the serial data from Input 1. ###\n",
    "logan.set_source('DigitalIO')\n",
    "\n",
    "### The sequence is ~1 ms long, so we set up an appropriate time base ###\n",
    "logan.set_timebase(-100e-6, 900e-6, roll_mode=False)\n",
    "\n",
    "### Set up the protocol decoder on Ch1, bit 0. The format is UART, with a data format of 8 bits followed by one stop bits ###\n",
    "### The Baud rate is 115200 ### \n",
    "logan.set_uart_decoder(channel=1, data_bit=0, data_width=8, uart_stop_width=1, uart_baud_rate=115200)\n",
    "\n",
    "### The data is returned as a dictionary, containing raw and decoded data ###\n",
    "### we look for the appropriate bit on pa1, which gives the distance ### \n",
    "logan.get_data(wait_reacquire=True, wait_complete=True)['pa1']"
   ]
  },
  {
   "cell_type": "code",
   "execution_count": null,
   "id": "43c0c818-98ea-46a3-8743-490021a0b589",
   "metadata": {},
   "outputs": [
    {
     "name": "stderr",
     "output_type": "stream",
     "text": [
      "2025-01-30 10:06:42.341 python[35130:651794] +[IMKClient subclass]: chose IMKClient_Modern\n",
      "2025-01-30 10:06:42.341 python[35130:651794] +[IMKInputSession subclass]: chose IMKInputSession_Modern\n"
     ]
    }
   ],
   "source": [
    "### We set up a loop using tkinter to continuously update a display. ###\n",
    "### The distance is acquired in every stage of the loop ### \n",
    "### Please see tkinter documentation for the exact nature of the commands ### \n",
    "\n",
    "def update_value(root, label):\n",
    "    try:\n",
    "        distance_in_cm = logan.get_data(wait_reacquire=True, wait_complete=True)['pa1'][5]['data']\n",
    "    except:\n",
    "        distance_in_cm = 1\n",
    "    label1.config(text = f\"Distance = {distance_in_cm} cm\", font=('Arial', '144'),fg='white')\n",
    "    root.after(20, update_value, root, label1)\n",
    "    \n",
    "root = Tk.Tk() \n",
    "label1 = Tk.Label(root, text = \"Loading\")\n",
    "label1.pack()\n",
    "root.after(1, update_value, root, label1)\n",
    "root.mainloop()"
   ]
  },
  {
   "cell_type": "code",
   "execution_count": null,
   "id": "26e1a9c7-d37a-4a93-8354-381ff454616d",
   "metadata": {},
   "outputs": [],
   "source": []
  }
 ],
 "metadata": {
  "kernelspec": {
   "display_name": "Python 3 (ipykernel)",
   "language": "python",
   "name": "python3"
  },
  "language_info": {
   "codemirror_mode": {
    "name": "ipython",
    "version": 3
   },
   "file_extension": ".py",
   "mimetype": "text/x-python",
   "name": "python",
   "nbconvert_exporter": "python",
   "pygments_lexer": "ipython3",
   "version": "3.11.5"
  }
 },
 "nbformat": 4,
 "nbformat_minor": 5
}
