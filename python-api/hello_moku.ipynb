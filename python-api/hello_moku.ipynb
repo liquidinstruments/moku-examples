{
 "cells": [
  {
   "cell_type": "markdown",
   "id": "ae5a3649-8501-4cae-aaaa-e591cebb97e9",
   "metadata": {},
   "source": [
    "# \"Hello Moku\"\n",
    "\n",
    "by Jason Ball, Liquid Instruments\n",
    "\n",
    "jason@liquidinstruments.com\n",
    "\n",
    "Created: 2024/06/26\n",
    "\n",
    "Last edited: 2024/12/13\n",
    "\n",
    "This program is the equivalent of typical \"Hello world\" programs used when learning a new language. This program shows the user how to connect to a Moku device via LAN and retrieve the serial number and firmware version."
   ]
  },
  {
   "cell_type": "markdown",
   "id": "e2251257-1811-4480-a841-51237421896e",
   "metadata": {},
   "source": [
    "## Section 1: Import and Connect"
   ]
  },
  {
   "cell_type": "code",
   "execution_count": 3,
   "id": "25bf89de-ca54-4afd-a6d6-da2eb22966a9",
   "metadata": {},
   "outputs": [],
   "source": [
    "### standard imports ###\n",
    "### none of these are needed in this case, but they are very useful ###\n",
    "import numpy as np\n",
    "import matplotlib.pyplot as plt\n",
    "import time"
   ]
  },
  {
   "cell_type": "code",
   "execution_count": 5,
   "id": "7fdc344b-46b2-4df2-bef5-b0af1e433422",
   "metadata": {},
   "outputs": [],
   "source": [
    "### import required instruments ###\n",
    "### oscilloscope choice is arbitrary, we are not actually using it this time ###\n",
    "from moku.instruments import Oscilloscope"
   ]
  },
  {
   "cell_type": "code",
   "execution_count": null,
   "id": "b061f422-68fd-420a-83c2-b8da50cb2eb7",
   "metadata": {},
   "outputs": [],
   "source": [
    "### Establish connection to the Moku ###\n",
    "### This sets up the device as an Oscilloscope in single-instrument mode. ###\n",
    "### Input your device's IP address as a string. ###\n",
    "### Setting force connect to be true will boot anyone using the de\n",
    "### force_connect will overtake an existing connection\n",
    "osc = Oscilloscope('192.168.###.###', force_connect=True)"
   ]
  },
  {
   "cell_type": "markdown",
   "id": "7aac7dbd-24a8-4193-b624-e8719fecf0b9",
   "metadata": {},
   "source": [
    "## Section 2: Hello Moku"
   ]
  },
  {
   "cell_type": "code",
   "execution_count": 10,
   "id": "8eceacf9-63f1-44aa-bb25-b0e74a5ffb50",
   "metadata": {},
   "outputs": [],
   "source": [
    "### Let's do the functional equivalent of the classic *IDN command ### \n",
    "idn = osc.serial_number()\n",
    "prop = osc.describe()"
   ]
  },
  {
   "cell_type": "code",
   "execution_count": 14,
   "id": "6f962411-5a66-4f7a-b4a4-2f28d32953a7",
   "metadata": {},
   "outputs": [
    {
     "name": "stdout",
     "output_type": "stream",
     "text": [
      "{'bitstreams': {}, 'firmware': '600.0', 'hardware': 'Moku:Go', 'proxy_version': '1', 'version': '3.3.1.1'}\n"
     ]
    }
   ],
   "source": [
    "### Let's see what describe() returns\n",
    "print(prop)"
   ]
  },
  {
   "cell_type": "code",
   "execution_count": 16,
   "id": "b3bac3eb-ee77-4045-b60a-0e74e08279ab",
   "metadata": {},
   "outputs": [
    {
     "name": "stdout",
     "output_type": "stream",
     "text": [
      "Hello! I am your Moku:Go with ID 003468\n",
      "My firmware version is 600.0\n"
     ]
    }
   ],
   "source": [
    "### Print the response ### \n",
    "print('Hello! I am your ' + prop['hardware'] + ' with ID ' + idn)\n",
    "print('My firmware version is ' + str(prop['firmware']))"
   ]
  },
  {
   "cell_type": "code",
   "execution_count": null,
   "id": "43c0c818-98ea-46a3-8743-490021a0b589",
   "metadata": {},
   "outputs": [],
   "source": []
  }
 ],
 "metadata": {
  "kernelspec": {
   "display_name": "Python 3 (ipykernel)",
   "language": "python",
   "name": "python3"
  },
  "language_info": {
   "codemirror_mode": {
    "name": "ipython",
    "version": 3
   },
   "file_extension": ".py",
   "mimetype": "text/x-python",
   "name": "python",
   "nbconvert_exporter": "python",
   "pygments_lexer": "ipython3",
   "version": "3.11.5"
  }
 },
 "nbformat": 4,
 "nbformat_minor": 5
}
