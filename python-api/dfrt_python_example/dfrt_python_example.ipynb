{
 "cells": [
  {
   "cell_type": "markdown",
   "metadata": {},
   "source": [
    "## Moku Example: Automating FIR Filter for Dual Frequency Resonance Tracking\n",
    "\n",
    "The purpose of this example is to exhibit the accuracy of the dual frequency resonance tracker (DFRT) by automatically changing the center frequency of the FIR filter box. The FIR filter box is used in a bandpass configuration with a sharp peak to simulate a resonator. Normally, DFRT would track the resonant peak of a resonator. In this case it is tracking the center frequency of an FIR filter. For an explanation of DFRT and how to build it on the Moku, please visit the application notes section on our website.\n",
    "\n",
    "**(c) 2025 Liquid Instruments Pty. Ltd.**"
   ]
  },
  {
   "cell_type": "code",
   "execution_count": 11,
   "metadata": {},
   "outputs": [],
   "source": [
    "from moku.instruments import FIRFilterBox, MultiInstrument, LockInAmp, PIDController, WaveformGenerator\n",
    "import time\n",
    "import pandas as pd\n",
    "import os\n",
    "import matplotlib.pyplot as plt\n",
    "import numpy as np"
   ]
  },
  {
   "cell_type": "markdown",
   "metadata": {},
   "source": [
    "The FIR filter is running on one Moku and the DFRT system is running on another Moku. This first block of code connects to each Moku device, and configures all of the instruments. For Multi-instrument mode, each instrument must be set into their respective slots, and then configured accordingly. For the Moku that is running the DFRT, two waveforms are generated, externally combined using an RF splitter, and sent to input 1 of the Moku running the FIR filter. Each generated waveform is also sent to input B of each Lock In amplifier as a demodulation source. The output of the FIR filter, which is the response of the 'resonator', is sent to the input of the two Lock In amplifiers to determine the amplitude of each frequency component in the combined signal. The outputs of the Lock In amplifiers go to the PID controller, and the PID output control signal goes to both waveform generators as a modulation signal."
   ]
  },
  {
   "cell_type": "code",
   "execution_count": null,
   "metadata": {},
   "outputs": [
    {
     "name": "stdout",
     "output_type": "stream",
     "text": [
      "Successfully configured instruments.\n"
     ]
    }
   ],
   "source": [
    "f=FIRFilterBox('192.168.##.##', force_connect=True)\n",
    "m=MultiInstrument('192.168.##.##', force_connect=True, platform_id=4)\n",
    "\n",
    "try:\n",
    "    f.set_frontend(channel=1, impedance='50Ohm', coupling='DC', attenuation='0dB')\n",
    "    f.enable_output(channel=1, signal=True, output=True)\n",
    "    f.set_control_matrix(channel=1, input_gain1=1, input_gain2=0)\n",
    "    f.set_input_gain(channel=1, gain=0)\n",
    "    f.set_input_offset(channel=1, offset=0)\n",
    "    f.set_output_gain(channel=1, gain=0)\n",
    "    f.set_output_offset(channel=1, offset=0)\n",
    "    f.set_monitor(monitor_channel=1, source='Output1')\n",
    "    f.set_by_frequency(channel=1, sample_rate='39.06MHz', coefficient_count=61, shape='Bandpass',\n",
    "                        low_corner=0.2432, high_corner=0.2944)\n",
    "\n",
    "    lia1=m.set_instrument(slot=1, instrument=LockInAmp)\n",
    "    lia2=m.set_instrument(slot=2, instrument=LockInAmp)\n",
    "    pid=m.set_instrument(slot=3, instrument=PIDController)\n",
    "    wg=m.set_instrument(slot=4, instrument=WaveformGenerator)\n",
    "\n",
    "    connections=[dict(source='Slot1OutA', destination='Slot3InB'),\n",
    "                 dict(source='Slot2OutA', destination='Slot3InA'),\n",
    "                 dict(source='Slot3OutA', destination='Slot4InA'),\n",
    "                 dict(source='Slot3OutA', destination='Slot4InB'),\n",
    "                 dict(source='Slot4OutA', destination='Output1'),\n",
    "                 dict(source='Slot4OutA', destination='Slot2InB'),\n",
    "                 dict(source='Slot4OutB', destination='Output2'),\n",
    "                 dict(source='Slot4OutB', destination='Slot1InB'),\n",
    "                 dict(source='Input1', destination='Slot1InA'),\n",
    "                 dict(source='Input1', destination='Slot2InA')]\n",
    "    m.set_connections(connections=connections)\n",
    "\n",
    "    m.set_frontend(channel=1, impedance='50Ohm', coupling='DC', attenuation='0dB')\n",
    "    m.set_output(channel=1,output_gain='0dB')\n",
    "    m.set_output(channel=2, output_gain='0dB')\n",
    "\n",
    "    lia1.set_demodulation(mode='ExternalPLL')\n",
    "    lia1.set_filter(corner_frequency=100, slope='Slope18dB')\n",
    "    lia1.set_outputs(main='R', aux='None', main_offset=0, aux_offset=0)\n",
    "    lia1.set_pll(auto_acquire=False, frequency=11e6, bandwidth='100kHz')\n",
    "    lia1.set_polar_mode(range='2Vpp')\n",
    "\n",
    "    lia2.set_demodulation(mode='ExternalPLL')\n",
    "    lia2.set_filter(corner_frequency=100, slope='Slope18dB')\n",
    "    lia2.set_outputs(main='R', aux='None', main_offset=0, aux_offset=0)\n",
    "    lia2.set_pll(auto_acquire=False, frequency=10e6, bandwidth='100kHz')\n",
    "    lia2.set_polar_mode(range='2Vpp')\n",
    "\n",
    "    pid.enable_input(channel=1, enable=True)\n",
    "    pid.enable_output(channel=1, signal=True, output=True)\n",
    "    pid.set_by_frequency(channel=1, prop_gain= -32.5, int_crossover=313)\n",
    "    pid.set_control_matrix(channel=1, input_gain1=-1, input_gain2=1)\n",
    "    pid.set_control_matrix(channel=2, input_gain1=1,input_gain2=1)\n",
    "    pid.set_monitor(monitor_channel=1, source='Output1')\n",
    "\n",
    "    wg.generate_waveform(channel=1, type='Sine', amplitude=0.1, frequency=10e6)\n",
    "    wg.generate_waveform(channel=2, type='Sine', amplitude=0.1, frequency=11e6)\n",
    "    wg.set_modulation(channel=1, type='Frequency', source='InputA', depth=1e6)\n",
    "    wg.set_modulation(channel=2, type='Frequency', source='InputA', depth=1e6)\n",
    "    wg.sync_phase()\n",
    "\n",
    "    m.sync()\n",
    "\n",
    "\n",
    "except Exception as e:\n",
    "    print(f'Exception occurred: {e}')\n",
    "\n",
    "finally:\n",
    "    print('Successfully configured instruments.')\n",
    "\n"
   ]
  },
  {
   "cell_type": "markdown",
   "metadata": {},
   "source": [
    "This is the automation of the FIR filter. Each `set_by_frequency` call changes the center frequency of the FIR filter, thus simulating a resonator with its variable resonant frequency. The block of code also downloads the data log from the Moku to your local directory."
   ]
  },
  {
   "cell_type": "code",
   "execution_count": null,
   "metadata": {},
   "outputs": [
    {
     "name": "stdout",
     "output_type": "stream",
     "text": [
      "Set center frequency to 10.5MHz\n",
      "Set center frequency to 10.75MHz\n",
      "Set center frequency to 11MHz\n",
      "Set center frequency to 11.25MHz\n",
      "Reset center frequency back to 10.5MHz\n",
      "Successfully downloaded logs as .csv.\n",
      "Successfully changed center frequency.\n"
     ]
    }
   ],
   "source": [
    "try:\n",
    "    log=pid.start_logging()\n",
    "    file_name=log['file_name']\n",
    "\n",
    "    f.set_by_frequency(channel=1, sample_rate='39.06MHz', coefficient_count=61, shape='Bandpass',\n",
    "                        low_corner=0.2432, high_corner=0.2944)\n",
    "    print('Set center frequency to 10.5MHz')\n",
    "\n",
    "    time.sleep(12)\n",
    "\n",
    "    f.set_by_frequency(channel=1, sample_rate='39.06MHz', coefficient_count=61, shape='Bandpass',\n",
    "                        low_corner=0.2496, high_corner=0.3008)\n",
    "    print('Set center frequency to 10.75MHz')\n",
    "\n",
    "    time.sleep(12)\n",
    "\n",
    "    f.set_by_frequency(channel=1, sample_rate='39.06MHz', coefficient_count=61, shape='Bandpass',\n",
    "                        low_corner=0.256, high_corner=0.3072)\n",
    "    print('Set center frequency to 11MHz')\n",
    "\n",
    "    time.sleep(12)\n",
    "\n",
    "    f.set_by_frequency(channel=1, sample_rate='39.06MHz', coefficient_count=61, shape='Bandpass',\n",
    "                        low_corner=0.2624, high_corner=0.3136)\n",
    "    print('Set center frequency to 11.25MHz')\n",
    "\n",
    "    time.sleep(12)\n",
    "\n",
    "    f.set_by_frequency(channel=1, sample_rate='39.06MHz', coefficient_count=61, shape='Bandpass',\n",
    "                        low_corner=0.2432, high_corner=0.2944)\n",
    "    print('Reset center frequency back to 10.5MHz')\n",
    "\n",
    "    time.sleep(5)\n",
    "\n",
    "    pid.stop_logging()\n",
    "    FILE_PATH='C:/Users/Path/Downloads' #Change to /user/your_path/to_downloads\n",
    "    temp_file= FILE_PATH + '/dfrt_pid_output' + time.strftime('%d-%m-%Y-%H_%M_%S_') \n",
    "    pid.download('ssd', file_name, temp_file + '.li')\n",
    "    os.system(f'mokucli convert {temp_file}'+'.li')\n",
    "    print('Successfully downloaded logs as .csv.')\n",
    "    \n",
    "\n",
    "except Exception as e:\n",
    "    print(f'Exception occurred: {e}')\n",
    "finally:\n",
    "    print('Successfully changed center frequency.')\n",
    "\n"
   ]
  },
  {
   "cell_type": "markdown",
   "metadata": {},
   "source": [
    "This block of code imports the downloaded file for data processing. "
   ]
  },
  {
   "cell_type": "code",
   "execution_count": 23,
   "metadata": {},
   "outputs": [
    {
     "name": "stdout",
     "output_type": "stream",
     "text": [
      "Successfully read .csv logs.\n",
      "            0         1\n",
      "0       0.000 -0.014169\n",
      "1       0.001 -0.014169\n",
      "2       0.002 -0.014169\n",
      "3       0.003 -0.014169\n",
      "4       0.004 -0.014169\n",
      "...       ...       ...\n",
      "56915  56.915  0.149240\n",
      "56916  56.916  0.149173\n",
      "56917  56.917  0.149039\n",
      "56918  56.918  0.149106\n",
      "56919  56.919  0.149106\n",
      "\n",
      "[56920 rows x 2 columns]\n"
     ]
    }
   ],
   "source": [
    "data=pd.read_csv(temp_file +'.csv', comment='%', header=None)\n",
    "print('Successfully read .csv logs.')\n",
    "print(data)\n"
   ]
  },
  {
   "cell_type": "markdown",
   "metadata": {},
   "source": [
    "Separate the data into time components and voltage components."
   ]
  },
  {
   "cell_type": "code",
   "execution_count": null,
   "metadata": {},
   "outputs": [],
   "source": [
    "time=data.iloc[:, 0]\n",
    "voltage=data.iloc[:, 1]"
   ]
  },
  {
   "cell_type": "markdown",
   "metadata": {},
   "source": [
    "This block creates a plot of the PID controller output, showing how it responds to the center frequency based on the FM depth of the waveform generators."
   ]
  },
  {
   "cell_type": "code",
   "execution_count": null,
   "metadata": {},
   "outputs": [
    {
     "data": {
      "image/png": "[encoded data removed]",
      "text/plain": [
       "<Figure size 640x480 with 1 Axes>"
      ]
     },
     "metadata": {},
     "output_type": "display_data"
    }
   ],
   "source": [
    "plt.plot(time,voltage)\n",
    "plt.xlabel('Time (s)')\n",
    "plt.ylabel('PID Output (V)')\n",
    "plt.title('Resonance Tracking')\n",
    "plt.yticks(np.arange(0,1.2,0.05))\n",
    "plt.xticks(np.arange(0,60, 5))\n",
    "plt.grid(True)\n",
    "plt.show()"
   ]
  },
  {
   "cell_type": "markdown",
   "metadata": {},
   "source": [
    "The following two blocks relinquish resources."
   ]
  },
  {
   "cell_type": "code",
   "execution_count": 26,
   "metadata": {},
   "outputs": [
    {
     "name": "stdout",
     "output_type": "stream",
     "text": [
      "Relinquished ownership.\n"
     ]
    }
   ],
   "source": [
    "try:\n",
    "    f.relinquish_ownership()\n",
    "except Exception as e:\n",
    "    print(f'Exception occurred: {e}')\n",
    "finally:\n",
    "    print('Relinquished ownership.')"
   ]
  },
  {
   "cell_type": "code",
   "execution_count": 28,
   "metadata": {},
   "outputs": [
    {
     "name": "stdout",
     "output_type": "stream",
     "text": [
      "Relinquished ownership.\n"
     ]
    }
   ],
   "source": [
    "try:\n",
    "    m.relinquish_ownership()\n",
    "except Exception as e:\n",
    "    print(f'Exception occurred: {e}')\n",
    "finally:\n",
    "    print('Relinquished ownership.')"
   ]
  },
  {
   "cell_type": "markdown",
   "metadata": {},
   "source": [
    "On the PID output plot, the voltage value will eventually settle to a constant value and this value determines the change in center frequency. We want to use these values because this is the point where the DFRT system has successfully tracked and locked onto the center frequency."
   ]
  },
  {
   "cell_type": "code",
   "execution_count": 29,
   "metadata": {},
   "outputs": [],
   "source": [
    "voltage1=data.iloc[:,1][data.iloc[:,0]==12].iloc[0]\n",
    "voltage2=data.iloc[:,1][data.iloc[:,0]==25].iloc[0]\n",
    "voltage3=data.iloc[:,1][data.iloc[:,0]==38].iloc[0]\n",
    "voltage4=data.iloc[:,1][data.iloc[:,0]==50].iloc[0]\n"
   ]
  },
  {
   "cell_type": "markdown",
   "metadata": {},
   "source": [
    "The following block of code takes the data that was logged, and calculates the center frequency. Then, the calculated frequency is compared to the actual center frequency and the precent error is calculated."
   ]
  },
  {
   "cell_type": "code",
   "execution_count": 30,
   "metadata": {},
   "outputs": [
    {
     "name": "stdout",
     "output_type": "stream",
     "text": [
      "Resonant Frequency: 10.5MHz\n",
      "Calculated Resonance: 10.49MHz\n",
      "Percent Error: 0.13%\n",
      "\n",
      "Resonance changed to: 10.75MHz\n",
      "Calculated resonance: 10.69MHz\n",
      "Percent Error: 0.57%\n",
      "\n",
      "Resonance changed to: 11MHz\n",
      "Calculated resonance: 10.91MHz\n",
      "Percent Error: 0.83%\n",
      "\n",
      "Resonance changed to: 11.25MHz\n",
      "Calculated resonance: 11.21MHz\n",
      "Percent Error: 0.38%\n",
      "\n"
     ]
    }
   ],
   "source": [
    "## Resonance Calculation ##\n",
    "print('Resonant Frequency: 10.5MHz')\n",
    "res1=10.5 + voltage1\n",
    "print(f'Calculated Resonance: {round(res1,2)}MHz')\n",
    "error1=abs((res1-10.5)/10.5)*100\n",
    "print(f'Percent Error: {round(error1,2)}%\\n')\n",
    "\n",
    "print('Resonance changed to: 10.75MHz')\n",
    "res2=10.5 + voltage2\n",
    "print(f'Calculated resonance: {round(res2,2)}MHz')\n",
    "error2=abs((res2-10.75)/10.75)*100\n",
    "print(f'Percent Error: {round(error2,2)}%\\n')\n",
    "\n",
    "print('Resonance changed to: 11MHz')\n",
    "res3=10.5 + voltage3\n",
    "print(f'Calculated resonance: {round(res3,2)}MHz')\n",
    "error3=abs((res3-11)/11)*100\n",
    "print(f'Percent Error: {round(error3, 2)}%\\n')\n",
    "\n",
    "print('Resonance changed to: 11.25MHz')\n",
    "res4=10.5 + voltage4\n",
    "print(f'Calculated resonance: {round(res4,2)}MHz')\n",
    "error4=abs((res4-11.25)/11.25)*100\n",
    "print(f'Percent Error: {round(error4, 2)}%\\n')\n",
    "\n",
    "\n",
    "\n",
    "\n"
   ]
  },
  {
   "cell_type": "markdown",
   "metadata": {},
   "source": [
    "The plots below are the frequency response curves, or Bode plots, of the FIR filter. The true center frequency of the FIR filters are shown on the plots. The percent error is coming from the DFRT not exactly tracking the center frequency due to the imperfect symmetry of the FIR filter. "
   ]
  },
  {
   "cell_type": "markdown",
   "metadata": {},
   "source": [
    "![title](FRA_FIR_10.5.png)"
   ]
  },
  {
   "cell_type": "markdown",
   "metadata": {},
   "source": [
    "![title](fra_fir_10.75.png)"
   ]
  },
  {
   "cell_type": "markdown",
   "metadata": {},
   "source": [
    "![title](fra_fir_11.png)"
   ]
  },
  {
   "cell_type": "markdown",
   "metadata": {},
   "source": [
    "![title](fra_fir_11.25.png)"
   ]
  },
  {
   "cell_type": "markdown",
   "metadata": {},
   "source": []
  }
 ],
 "metadata": {
  "kernelspec": {
   "display_name": "base",
   "language": "python",
   "name": "python3"
  },
  "language_info": {
   "codemirror_mode": {
    "name": "ipython",
    "version": 3
   },
   "file_extension": ".py",
   "mimetype": "text/x-python",
   "name": "python",
   "nbconvert_exporter": "python",
   "pygments_lexer": "ipython3",
   "version": "3.12.7"
  }
 },
 "nbformat": 4,
 "nbformat_minor": 2
}
