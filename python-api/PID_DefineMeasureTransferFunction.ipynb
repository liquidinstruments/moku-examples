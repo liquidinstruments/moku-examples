{
 "cells": [
  {
   "cell_type": "markdown",
   "id": "a56f497b",
   "metadata": {},
   "source": [
    "# How to define and measure a transfer function using the Moku:Pro PID Controller and Frequency Response Analyzer \n",
    "\n",
    "by Jason Ball\n",
    "2025/03/17"
   ]
  },
  {
   "cell_type": "markdown",
   "id": "b9e6b7b7",
   "metadata": {},
   "source": [
    "## Section 1: Import and Connect"
   ]
  },
  {
   "cell_type": "code",
   "execution_count": 12,
   "id": "47a1e8d8",
   "metadata": {},
   "outputs": [],
   "source": [
    "### First we make our standard Python imports ###\n",
    "### These are not strictly necessary if you are not doing any manipulation or plotting of the data ###\n",
    "import numpy as np\n",
    "import matplotlib.pyplot as plt"
   ]
  },
  {
   "cell_type": "code",
   "execution_count": 14,
   "id": "4a9cd688",
   "metadata": {},
   "outputs": [],
   "source": [
    "### Now we make imports from the Moku package ###\n",
    "### Import multi-instrument mode (MiM) plus all required instruments ###\n",
    "from moku.instruments import MultiInstrument\n",
    "from moku.instruments import PIDController\n",
    "from moku.instruments import FrequencyResponseAnalyzer"
   ]
  },
  {
   "cell_type": "code",
   "execution_count": 16,
   "id": "4a367539",
   "metadata": {},
   "outputs": [
    {
     "name": "stdout",
     "output_type": "stream",
     "text": [
      "Connected to Moku:Go, S/N 004281\n",
      "Firmware version 601.0\n"
     ]
    }
   ],
   "source": [
    "### Establish connection to the Moku ###\n",
    "### IP address will be different based on your setup ###\n",
    "### Platform id will always be 1 or 4 for Moku Pro ###\n",
    "mim = MultiInstrument('10.0.0.83', force_connect=True, platform_id=2)\n",
    "\n",
    "### Retrieve the hardware version, serial number, and firmware version from the instrument ### \n",
    "idn = mim.serial_number()\n",
    "prop = mim.describe()\n",
    "print('Connected to ' + prop['hardware'] + ', S/N ' + idn)\n",
    "print('Firmware version ' + str(prop['firmware']))"
   ]
  },
  {
   "cell_type": "markdown",
   "id": "e64c6199",
   "metadata": {},
   "source": [
    "## Section 2: Configure FPGA"
   ]
  },
  {
   "cell_type": "code",
   "execution_count": 19,
   "id": "f8f8a9f3",
   "metadata": {},
   "outputs": [
    {
     "name": "stdout",
     "output_type": "stream",
     "text": [
      "Instruments Set\n"
     ]
    }
   ],
   "source": [
    "### Now we define our instruments ###\n",
    "### Use the set instrument command and the instruments we imported earlier ###\n",
    "### The number corresponds to the slot on the Moku:Pro FPGA ###\n",
    "pid = mim.set_instrument(1, PIDController)\n",
    "fra = mim.set_instrument(2, FrequencyResponseAnalyzer)\n",
    "\n",
    "print('Instruments Set')"
   ]
  },
  {
   "cell_type": "code",
   "execution_count": 21,
   "id": "a8758aad",
   "metadata": {},
   "outputs": [
    {
     "name": "stdout",
     "output_type": "stream",
     "text": [
      "Connections Set\n"
     ]
    }
   ],
   "source": [
    "### Define connection map ###\n",
    "### The best way is to use a Python dictionary. Each connection has a source and destination. ###\n",
    "### Slots are numbered 1-4, Inputs and Outputs are ordered A/B/C ###\n",
    "### See the image below for reference ###\n",
    "\n",
    "connections = [dict(source=\"Slot1OutA\", destination=\"Slot2InA\"),\n",
    "               dict(source=\"Slot1OutB\", destination=\"Slot2InB\"),\n",
    "               ]\n",
    "\n",
    "mim.set_connections(connections=connections)\n",
    "\n",
    "print('Connections Set')"
   ]
  },
  {
   "cell_type": "markdown",
   "id": "60a366f2",
   "metadata": {},
   "source": [
    "## Section 3: Set up instruments"
   ]
  },
  {
   "cell_type": "code",
   "execution_count": 24,
   "id": "ec30fbe4",
   "metadata": {},
   "outputs": [
    {
     "name": "stdout",
     "output_type": "stream",
     "text": [
      "PID Controller configured\n",
      "Moku:Go PID Controller\n",
      "Input A\n",
      "Input B\n",
      "Control matrix: 1-1 = 1, 1-2 = 0, 2-1 = 0, 2-2 = 1\n",
      "Controller 1: PID controller: proportional gain -10.0 dB, integrator crossover 100.0 Hz, differentiator crossover 10.00 kHz, integrator saturation +10.0 dB, differentiator saturation +10.0 dB, input offset 0.000 0 V\n",
      "Controller 2: advanced configuration, input offset 0.000 0 V\n",
      "Section A: G = -10.0 dB, Kp = +5.0 dB, Kd = -40.0 dB, Dc = 1.000 kHz\n",
      "Section B: off\n",
      "\n",
      "Output A - control signal enabled, offset 0.000 0 V, limits disabled, output enabled\n",
      "Output B - control signal enabled, offset 0.000 0 V, limits disabled, output enabled\n"
     ]
    }
   ],
   "source": [
    "### Set up PID Controller ###\n",
    "\n",
    "#Configures the control matrix:\n",
    "# Channel 1: input 1 linear gain = 1 (0 dB), input 2 = 0 \n",
    "# Channel 2: input 2 = 0, input 2 linear gain = 1\n",
    "pid.set_control_matrix(channel=1, input_gain1=1, input_gain2=0)\n",
    "pid.set_control_matrix(channel=2, input_gain1=0, input_gain2=1)\n",
    "\n",
    "# Configure PID Control loop 1 using frequency response characteristics\n",
    "#   P = -10dB\n",
    "#   I Crossover = 100Hz\n",
    "#   D Crossover = 10kHz\n",
    "#   I Saturation = 10dB\n",
    "#   D Saturation = 10dB\n",
    "#   Double-I = OFF\n",
    "pid.set_by_frequency(channel=1, prop_gain=-10, int_crossover=1e2,\n",
    "                   diff_crossover=1e4, int_saturation=10,\n",
    "                   diff_saturation=10)\n",
    "\n",
    "# Configure PID Control loop 2 using gain\n",
    "#   Proportional gain = 10\n",
    "#   Differentiator gain = -5\n",
    "#   Differentiator gain corner = 5 kHz\n",
    "pid.set_by_gain(channel=2, overall_gain=-10, prop_gain=5, diff_gain=-40,\n",
    "              diff_corner=1e3)\n",
    "\n",
    "# Enable the outputs of the PID controller\n",
    "pid.enable_output(1, signal=True, output=True)\n",
    "pid.enable_output(2, signal=True, output=True)\n",
    "\n",
    "print('PID Controller configured')\n",
    "print(pid.summary()) "
   ]
  },
  {
   "cell_type": "code",
   "execution_count": 30,
   "id": "9b9c5073-efcd-4dbd-9de9-855b6b01fcef",
   "metadata": {},
   "outputs": [
    {
     "data": {
      "text/plain": [
       "{'estimated_sweep_time': 8.977271394399608}"
      ]
     },
     "execution_count": 30,
     "metadata": {},
     "output_type": "execute_result"
    }
   ],
   "source": [
    "### Set up Frequency Response Analyzer ### \n",
    "f_start = 1e6  # Hz\n",
    "f_end = 10  # Hz\n",
    "sweep_length = 512\n",
    "amp_ch1 = 0.1  # Vpp\n",
    "amp_ch2 = 0.1  # Vpp\n",
    "averaging_time = 1e-6  # sec\n",
    "settling_time = 1e-6  # sec\n",
    "averaging_cycles = 1\n",
    "settling_cycles = 1\n",
    "\n",
    "# Set the output sweep amplitudes\n",
    "fra.set_output(1, amp_ch1)\n",
    "fra.set_output(2, amp_ch2)\n",
    "\n",
    "# Set the sweep configuration\n",
    "fra.set_sweep(start_frequency=f_start, stop_frequency=f_end,\n",
    "            num_points=sweep_length, averaging_time=averaging_time,\n",
    "            settling_time=settling_time, averaging_cycles=averaging_cycles,\n",
    "            settling_cycles=settling_cycles)\n",
    "\n",
    "# Start the output sweep in loop mode\n",
    "fra.start_sweep()"
   ]
  },
  {
   "cell_type": "markdown",
   "id": "1e2541b7",
   "metadata": {},
   "source": [
    "## Section 4: Collect and plot results"
   ]
  },
  {
   "cell_type": "code",
   "execution_count": 32,
   "id": "0ea3cf5e",
   "metadata": {
    "scrolled": true
   },
   "outputs": [
    {
     "data": {
      "image/png": "[encoded data removed]",
      "text/plain": [
       "<Figure size 640x480 with 2 Axes>"
      ]
     },
     "metadata": {},
     "output_type": "display_data"
    }
   ],
   "source": [
    "frame = fra.get_data(wait_complete=True, timeout=10)\n",
    "ch1Data = frame['ch1']\n",
    "ch2Data = frame['ch2']\n",
    "\n",
    "fig = plt.figure()\n",
    "\n",
    "ax1 = fig.add_subplot(211)\n",
    "ax1.semilogx(ch1Data['frequency'], ch1Data['magnitude'], 'b', label='ChA')\n",
    "ax1.semilogx(ch2Data['frequency'], ch2Data['magnitude'], 'r', label='ChB')\n",
    "ax1.grid(True)\n",
    "ax1.set_xlabel('Freq (Hz)')\n",
    "ax1.set_ylabel('Mag (dB)')\n",
    "ax1.legend(loc='lower right')\n",
    "\n",
    "ax2 = fig.add_subplot(212)\n",
    "ax2.semilogx(ch1Data['frequency'], ch1Data['phase'], 'b', label='ChA')\n",
    "ax2.semilogx(ch2Data['frequency'], ch2Data['phase'], 'r', label='ChB')\n",
    "ax2.grid(True)\n",
    "ax2.set_xlabel('Freq (Hz)')\n",
    "ax2.set_ylabel('Phase (deg)')\n",
    "ax2.legend(loc='lower right')\n",
    "\n",
    "plt.show()"
   ]
  },
  {
   "cell_type": "code",
   "execution_count": null,
   "id": "420a3b41-5808-41ec-977d-4a5e02d7a49f",
   "metadata": {},
   "outputs": [],
   "source": []
  }
 ],
 "metadata": {
  "kernelspec": {
   "display_name": "Python 3 (ipykernel)",
   "language": "python",
   "name": "python3"
  },
  "language_info": {
   "codemirror_mode": {
    "name": "ipython",
    "version": 3
   },
   "file_extension": ".py",
   "mimetype": "text/x-python",
   "name": "python",
   "nbconvert_exporter": "python",
   "pygments_lexer": "ipython3",
   "version": "3.11.5"
  }
 },
 "nbformat": 4,
 "nbformat_minor": 5
}
